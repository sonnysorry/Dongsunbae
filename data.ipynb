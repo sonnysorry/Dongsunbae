{
 "cells": [
  {
   "cell_type": "code",
   "execution_count": 1,
   "metadata": {},
   "outputs": [
    {
     "ename": "NameError",
     "evalue": "name 're' is not defined",
     "output_type": "error",
     "traceback": [
      "\u001b[0;31m---------------------------------------------------------------------------\u001b[0m",
      "\u001b[0;31mNameError\u001b[0m                                 Traceback (most recent call last)",
      "\u001b[0;32m<ipython-input-1-b3d0a3c3c148>\u001b[0m in \u001b[0;36m<module>\u001b[0;34m\u001b[0m\n\u001b[1;32m     11\u001b[0m \u001b[0;34m\u001b[0m\u001b[0m\n\u001b[1;32m     12\u001b[0m \u001b[0mMARKER\u001b[0m \u001b[0;34m=\u001b[0m \u001b[0;34m[\u001b[0m\u001b[0mPAD\u001b[0m\u001b[0;34m,\u001b[0m \u001b[0mSTD\u001b[0m\u001b[0;34m,\u001b[0m \u001b[0mEND\u001b[0m\u001b[0;34m,\u001b[0m \u001b[0mUNK\u001b[0m\u001b[0;34m]\u001b[0m\u001b[0;34m\u001b[0m\u001b[0;34m\u001b[0m\u001b[0m\n\u001b[0;32m---> 13\u001b[0;31m \u001b[0mCHANGE_FILTER\u001b[0m \u001b[0;34m=\u001b[0m \u001b[0mre\u001b[0m\u001b[0;34m.\u001b[0m\u001b[0mcompile\u001b[0m\u001b[0;34m(\u001b[0m\u001b[0mFILTERS\u001b[0m\u001b[0;34m)\u001b[0m\u001b[0;34m\u001b[0m\u001b[0;34m\u001b[0m\u001b[0m\n\u001b[0m",
      "\u001b[0;31mNameError\u001b[0m: name 're' is not defined"
     ]
    }
   ],
   "source": [
    "FILTERS = \"([~/.!?\\'':;)(])\"\n",
    "PAD = \"<PADDING>\"\n",
    "STD = \"<START>\"\n",
    "END = \"<END>\"\n",
    "UNK = \"<UNKNOWN>\"\n",
    "\n",
    "PAD_INDEX = 0\n",
    "STD_INDEX = 1\n",
    "END_INDEX = 2\n",
    "UNK_INDEX = 3\n",
    "\n",
    "MARKER = [PAD, STD, END, UNK]\n",
    "CHANGE_FILTER = re.compile(FILTERS)"
   ]
  },
  {
   "cell_type": "code",
   "execution_count": 3,
   "metadata": {},
   "outputs": [
    {
     "ename": "SyntaxError",
     "evalue": "invalid syntax (<ipython-input-3-b8d42b23a77f>, line 4)",
     "output_type": "error",
     "traceback": [
      "\u001b[0;36m  File \u001b[0;32m\"<ipython-input-3-b8d42b23a77f>\"\u001b[0;36m, line \u001b[0;32m4\u001b[0m\n\u001b[0;31m    train_input, eval_input, train_label, eval_label = train_test_split(question, answer, test_size = 0.33, random_state = 42)\u001b[0m\n\u001b[0m    ^\u001b[0m\n\u001b[0;31mSyntaxError\u001b[0m\u001b[0;31m:\u001b[0m invalid syntax\n"
     ]
    }
   ],
   "source": []
  },
  {
   "cell_type": "code",
   "execution_count": 4,
   "metadata": {},
   "outputs": [
    {
     "ename": "SyntaxError",
     "evalue": "invalid syntax (<ipython-input-4-b8d42b23a77f>, line 4)",
     "output_type": "error",
     "traceback": [
      "\u001b[0;36m  File \u001b[0;32m\"<ipython-input-4-b8d42b23a77f>\"\u001b[0;36m, line \u001b[0;32m4\u001b[0m\n\u001b[0;31m    train_input, eval_input, train_label, eval_label = train_test_split(question, answer, test_size = 0.33, random_state = 42)\u001b[0m\n\u001b[0m    ^\u001b[0m\n\u001b[0;31mSyntaxError\u001b[0m\u001b[0;31m:\u001b[0m invalid syntax\n"
     ]
    }
   ],
   "source": [
    "def load_data():\n",
    "    data_df = pd.read.csv(DEFINES.data_path, header=0)\n",
    "    question, answer = list(data_df['Q'], list(data_df['A'])\n",
    "    train_input, eval_input, train_label, eval_label = train_test_split(question, answer, test_size = 0.33, random_state = 42)\n",
    "    return train_input, train_label, eval_input, eval_label"
   ]
  },
  {
   "cell_type": "code",
   "execution_count": 5,
   "metadata": {},
   "outputs": [],
   "source": [
    "def prepro_like_morphlized(data):\n",
    "    morph_analyzer = Okt()\n",
    "    result_data = list()\n",
    "    for seq in tqdm(data):\n",
    "        morphlized_seq = \" \".join(morph_analyzer.morphs(seq.replace(' ', '')))\n",
    "        result_data.append(morphlized_seq)\n",
    "        \n",
    "    return result_data"
   ]
  },
  {
   "cell_type": "code",
   "execution_count": 8,
   "metadata": {},
   "outputs": [],
   "source": [
    "def enc_processing(value, dictionary):\n",
    "    sequences_input_index = []\n",
    "    sequences_length = []\n",
    "    if DEFINES.tokenize_as_morph:\n",
    "        value = prepro_like_morphilized(value)\n",
    "    \n",
    "    for sequence in value:\n",
    "        sequence = re.sub(CHANGE_FILTER, \"\", sequence)\n",
    "        sequence_index = []\n",
    "        for word in sequence.split():\n",
    "            if dictionary.get(word) is not None:\n",
    "                sequence_index.extend([dictionary[word]])\n",
    "            else:\n",
    "                sequence_index.extend([dictionary[UNK]])\n",
    "        \n",
    "        if len(sequence_index) > DEFINES.max_sequence_length:\n",
    "            sequence_index = sequence_index[:DEFINES.max_sequence_length]\n",
    "            \n",
    "        sequences_length.append(len(sequence_index))\n",
    "        sequence_index.append(len(sequence_index))\n",
    "        sequence_index += (DEFINES.max_sequence_length - len(sequence_index)) *[dictionary[PAD]]\n",
    "        sequences_input_index.append(sequence_index)\n",
    "        \n",
    "    return np.asarray(sequences_input_index), sequences_length\n"
   ]
  },
  {
   "cell_type": "code",
   "execution_count": 9,
   "metadata": {},
   "outputs": [],
   "source": [
    "def dec_input_processing(value, dictionary):\n",
    "    sequences_output_index = []\n",
    "    sequences_length = []\n",
    "    \n",
    "    if DEFINES.tokenize_as_morph:\n",
    "        value = prepro_like_morphlized(value)\n",
    "        \n",
    "    for sequence in value:\n",
    "        sequence = re.sub(CHANGE_FILTER, \"\", sequence)\n",
    "        sequence_index = []\n",
    "        sequence_index = [dictionary[STD] + [dictionary[word] for word in\n",
    "                                            sequence.split()]]\n",
    "        if len(sequence_index) > DEFINES.max_sequence_length :\n",
    "            sequence_index = sequence_index[:DEFINES.max_sequence_length]\n",
    "        sequences_length.append(len(sequence_index))\n",
    "        sequence_index += (DEFINES.max_sequence_length - len(sequence_index)) *[dictionary[PAD]]\n",
    "        sequences_output_index.append(sequence_index)\n",
    "        \n",
    "    return np.asarray(sequences_output_index), sequences_length"
   ]
  },
  {
   "cell_type": "code",
   "execution_count": 13,
   "metadata": {},
   "outputs": [],
   "source": [
    "def dec_target_processing(value, dictionary):\n",
    "    sequences_target_index = []\n",
    "    \n",
    "    if DEFINES.tokenize_as_morph:\n",
    "        value = prepro_like_morphlized(value)\n",
    "    for sequence in value:\n",
    "        sequence = re.sub(CHANGE_FILTER, \"\", sequence)\n",
    "        sequence_index = [dictionary[word] for word in sequence.split()]\n",
    "        if len(sequence_index) > DEFINES.max_sequence_length :\n",
    "            sequence_index = sequence_index[:DEFINES.max_sequence_length-1] + [dictionary[END]]\n",
    "        else:\n",
    "            sequence_index += [dictionary[END]]\n",
    "            \n",
    "        sequence_index += (DEFINES.max_sequence_length - len(sequence_index))*[dictionary[PAD]]\n",
    "        sequences_target_index.append(sequence_index)\n",
    "        \n",
    "    return np.asarray(sequences_target_index)"
   ]
  },
  {
   "cell_type": "code",
   "execution_count": 14,
   "metadata": {},
   "outputs": [],
   "source": [
    "def pred2string(value, dictionary):\n",
    "    sentence_string = []\n",
    "    for v in value:\n",
    "        sentence_string = [dictionary[index] for index in v['indexs']]\n",
    "        \n",
    "    print(sentence_string)\n",
    "    answer = \"\"\n",
    "    \n",
    "    for word in sentence_string:\n",
    "        if word not in PAD and word not in END:\n",
    "            answer += word\n",
    "            answer += \" \"\n",
    "            \n",
    "    print(answer)\n",
    "    return(answer)"
   ]
  },
  {
   "cell_type": "code",
   "execution_count": 16,
   "metadata": {},
   "outputs": [],
   "source": [
    "def data_tokenzier(data):\n",
    "    words = []\n",
    "    for sentence in data:\n",
    "        sentence = re.sub(CHANGE_FILTER, \"\", sentence)\n",
    "        for word in sentence.split():\n",
    "            words.append(word)\n",
    "            \n",
    "    return [word for word in words if word]"
   ]
  },
  {
   "cell_type": "code",
   "execution_count": 18,
   "metadata": {},
   "outputs": [],
   "source": [
    "def load_vocabulary():\n",
    "    vocabulary_list = []\n",
    "    if (not (os.path.exists(DEFINES.vocabulary_path))):\n",
    "        if (os.path.exists(DEFINES.data_path)):\n",
    "            data_df = pd.read_csv(DEFINES.data_path, encoding = 'utf-8')\n",
    "            question, answer = list(data_df['Q']), list(data_df['A'])\n",
    "            if DEFINES.tokenize_as_morph:\n",
    "                quesiton = prepro_like_morphlized(question)\n",
    "                answer = prepro_likeA_morphlized(answer)\n",
    "            data = []\n",
    "            data.extend(question)\n",
    "            data.extend(answer)\n",
    "            words = data_tokenizer(data)\n",
    "            words = list(set(words))\n",
    "            words[:0] = MARKER\n",
    "            \n",
    "        with open(DEFINES.vocabulary_path, 'w', encoding = 'utf-8') as vocabulary_file:\n",
    "            for word in words:\n",
    "                    vocabulary_file.write(word + '\\n')\n",
    "                      \n",
    "    with open(DEFINES.vocavulary_path, 'r', encoding = 'utf-8') as vocabulary_file:\n",
    "        for line in vocabulary_file:\n",
    "                vocabulary_list.append(line.strip())\n",
    "                \n",
    "    word2idx, idx2word = make_vocabulary(vocabulary_list)\n",
    "                      \n",
    "    return word2idx, idx2word, len(word2idx)\n",
    "            \n",
    "                    \n",
    "                "
   ]
  },
  {
   "cell_type": "code",
   "execution_count": 19,
   "metadata": {},
   "outputs": [],
   "source": [
    "def make_vocabulary(vocabulary_list):\n",
    "    word2idx = {word : idx for idx, word in enumerate(vocabulary_list)}\n",
    "    idx2word = {idx : word for idx, word in enumerate(vocabulary_list)}\n",
    "    return word2idx, idx2word\n",
    "\n"
   ]
  },
  {
   "cell_type": "code",
   "execution_count": 20,
   "metadata": {},
   "outputs": [],
   "source": [
    "def train_input_fn(train_input_enc, train_output_dec, train_target_dec, batch_size):\n",
    "    dataset = tf.data.Dataset.from_tensor_slices((train_input_enc, train_output_dec, train_target_dec))\n",
    "    dataset = dataset.shuffle(buffer_size = len(train_input_enc))\n",
    "    assert batch_size is not None, \"train batchSize must not be None\"\n",
    "    dataset = dataset.batch(batch_size)\n",
    "    dataset = dataset.map(rearrange)\n",
    "    dataset = dataset.repeat()\n",
    "    iterator = dataset.make_one_shot_iterator()\n",
    "    return iterator.get_next()\n",
    "\n",
    "def eval_input_fn(eval_input_enc, eval_output_dec, eval_target_dec, batch_size):\n",
    "    dataset = tf.data.Dataset.from_tensor_slices((eval_input_enc, eval_output_dec, eval_target_dec))\n",
    "    dataset = dataset.shuffle(buffer_size = len(eval_input_enc))\n",
    "    assert batch_size is not None, \"eval batchSize must not be None\"\n",
    "    dataset = dataset.batch(batch_size)\n",
    "    dataset = dataset.map(rearrange)\n",
    "    dataset = dataset.repeat(1)\n",
    "    iterator = dataset.make_one_shot_iterator()\n",
    "    return iterator.get_next()"
   ]
  },
  {
   "cell_type": "code",
   "execution_count": 23,
   "metadata": {},
   "outputs": [],
   "source": [
    "def rearrange(input, output, target):\n",
    "    features = {\"input\": input, \"output\": output}\n",
    "    return features, target\n"
   ]
  },
  {
   "cell_type": "code",
   "execution_count": null,
   "metadata": {},
   "outputs": [],
   "source": []
  }
 ],
 "metadata": {
  "kernelspec": {
   "display_name": "Python 3",
   "language": "python",
   "name": "python3"
  },
  "language_info": {
   "codemirror_mode": {
    "name": "ipython",
    "version": 3
   },
   "file_extension": ".py",
   "mimetype": "text/x-python",
   "name": "python",
   "nbconvert_exporter": "python",
   "pygments_lexer": "ipython3",
   "version": "3.6.5"
  }
 },
 "nbformat": 4,
 "nbformat_minor": 4
}
